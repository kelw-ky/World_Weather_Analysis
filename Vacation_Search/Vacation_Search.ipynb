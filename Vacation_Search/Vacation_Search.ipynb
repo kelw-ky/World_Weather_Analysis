{
 "cells": [
  {
   "cell_type": "markdown",
   "metadata": {},
   "source": [
    "## Deliverable 2. Create a Customer Travel Destinations Map."
   ]
  },
  {
   "cell_type": "code",
   "execution_count": 1,
   "metadata": {},
   "outputs": [
    {
     "name": "stderr",
     "output_type": "stream",
     "text": [
      "C:\\Users\\16472\\anaconda3\\lib\\site-packages\\requests\\__init__.py:102: RequestsDependencyWarning: urllib3 (1.24.3) or chardet (2.0.3)/charset_normalizer (2.0.4) doesn't match a supported version!\n",
      "  warnings.warn(\"urllib3 ({}) or chardet ({})/charset_normalizer ({}) doesn't match a supported \"\n"
     ]
    }
   ],
   "source": [
    "# Dependencies and Setup\n",
    "import pandas as pd\n",
    "import requests\n",
    "import gmaps\n",
    "import numpy as np\n",
    "\n",
    "# Import API key\n",
    "from config import g_key\n",
    "\n",
    "# Configure gmaps API key\n",
    "gmaps.configure(api_key=g_key)"
   ]
  },
  {
   "cell_type": "code",
   "execution_count": 2,
   "metadata": {},
   "outputs": [
    {
     "data": {
      "text/html": [
       "<div>\n",
       "<style scoped>\n",
       "    .dataframe tbody tr th:only-of-type {\n",
       "        vertical-align: middle;\n",
       "    }\n",
       "\n",
       "    .dataframe tbody tr th {\n",
       "        vertical-align: top;\n",
       "    }\n",
       "\n",
       "    .dataframe thead th {\n",
       "        text-align: right;\n",
       "    }\n",
       "</style>\n",
       "<table border=\"1\" class=\"dataframe\">\n",
       "  <thead>\n",
       "    <tr style=\"text-align: right;\">\n",
       "      <th></th>\n",
       "      <th>City ID</th>\n",
       "      <th>City</th>\n",
       "      <th>Country</th>\n",
       "      <th>Date</th>\n",
       "      <th>Lat</th>\n",
       "      <th>Lng</th>\n",
       "      <th>Max Temp</th>\n",
       "      <th>Humidity</th>\n",
       "      <th>Cloudiness</th>\n",
       "      <th>Wind Speed</th>\n",
       "      <th>Current Description</th>\n",
       "      <th>Rain inches (last 3hrs)</th>\n",
       "      <th>Snow inches (last 3hrs)</th>\n",
       "    </tr>\n",
       "  </thead>\n",
       "  <tbody>\n",
       "    <tr>\n",
       "      <th>0</th>\n",
       "      <td>0</td>\n",
       "      <td>Colares</td>\n",
       "      <td>PT</td>\n",
       "      <td>2022-02-13 22:17:54</td>\n",
       "      <td>38.7992</td>\n",
       "      <td>-9.4469</td>\n",
       "      <td>56.39</td>\n",
       "      <td>76</td>\n",
       "      <td>27</td>\n",
       "      <td>20.00</td>\n",
       "      <td>scattered clouds</td>\n",
       "      <td>0.0</td>\n",
       "      <td>0.0</td>\n",
       "    </tr>\n",
       "    <tr>\n",
       "      <th>1</th>\n",
       "      <td>1</td>\n",
       "      <td>Bredasdorp</td>\n",
       "      <td>ZA</td>\n",
       "      <td>2022-02-13 22:19:25</td>\n",
       "      <td>-34.5322</td>\n",
       "      <td>20.0403</td>\n",
       "      <td>67.32</td>\n",
       "      <td>68</td>\n",
       "      <td>96</td>\n",
       "      <td>9.22</td>\n",
       "      <td>overcast clouds</td>\n",
       "      <td>0.0</td>\n",
       "      <td>0.0</td>\n",
       "    </tr>\n",
       "    <tr>\n",
       "      <th>2</th>\n",
       "      <td>2</td>\n",
       "      <td>Hasaki</td>\n",
       "      <td>JP</td>\n",
       "      <td>2022-02-13 22:19:15</td>\n",
       "      <td>35.7333</td>\n",
       "      <td>140.8333</td>\n",
       "      <td>36.28</td>\n",
       "      <td>81</td>\n",
       "      <td>100</td>\n",
       "      <td>31.65</td>\n",
       "      <td>overcast clouds</td>\n",
       "      <td>0.0</td>\n",
       "      <td>0.0</td>\n",
       "    </tr>\n",
       "    <tr>\n",
       "      <th>3</th>\n",
       "      <td>3</td>\n",
       "      <td>Muyezerskiy</td>\n",
       "      <td>RU</td>\n",
       "      <td>2022-02-13 22:26:56</td>\n",
       "      <td>63.9333</td>\n",
       "      <td>31.6500</td>\n",
       "      <td>29.21</td>\n",
       "      <td>96</td>\n",
       "      <td>100</td>\n",
       "      <td>11.41</td>\n",
       "      <td>light snow</td>\n",
       "      <td>0.0</td>\n",
       "      <td>0.0</td>\n",
       "    </tr>\n",
       "    <tr>\n",
       "      <th>4</th>\n",
       "      <td>4</td>\n",
       "      <td>Souillac</td>\n",
       "      <td>MU</td>\n",
       "      <td>2022-02-13 22:19:58</td>\n",
       "      <td>-20.5167</td>\n",
       "      <td>57.5167</td>\n",
       "      <td>81.36</td>\n",
       "      <td>94</td>\n",
       "      <td>75</td>\n",
       "      <td>11.50</td>\n",
       "      <td>broken clouds</td>\n",
       "      <td>0.0</td>\n",
       "      <td>0.0</td>\n",
       "    </tr>\n",
       "  </tbody>\n",
       "</table>\n",
       "</div>"
      ],
      "text/plain": [
       "   City ID         City Country                 Date      Lat       Lng  \\\n",
       "0        0      Colares      PT  2022-02-13 22:17:54  38.7992   -9.4469   \n",
       "1        1   Bredasdorp      ZA  2022-02-13 22:19:25 -34.5322   20.0403   \n",
       "2        2       Hasaki      JP  2022-02-13 22:19:15  35.7333  140.8333   \n",
       "3        3  Muyezerskiy      RU  2022-02-13 22:26:56  63.9333   31.6500   \n",
       "4        4     Souillac      MU  2022-02-13 22:19:58 -20.5167   57.5167   \n",
       "\n",
       "   Max Temp  Humidity  Cloudiness  Wind Speed Current Description  \\\n",
       "0     56.39        76          27       20.00    scattered clouds   \n",
       "1     67.32        68          96        9.22     overcast clouds   \n",
       "2     36.28        81         100       31.65     overcast clouds   \n",
       "3     29.21        96         100       11.41          light snow   \n",
       "4     81.36        94          75       11.50       broken clouds   \n",
       "\n",
       "   Rain inches (last 3hrs)  Snow inches (last 3hrs)  \n",
       "0                      0.0                      0.0  \n",
       "1                      0.0                      0.0  \n",
       "2                      0.0                      0.0  \n",
       "3                      0.0                      0.0  \n",
       "4                      0.0                      0.0  "
      ]
     },
     "execution_count": 2,
     "metadata": {},
     "output_type": "execute_result"
    }
   ],
   "source": [
    "# 1. Import the WeatherPy_database.csv file. \n",
    "city_data_df = pd.read_csv(\"../Weather_Database/WeatherPy_Database.csv\")\n",
    "city_data_df.head(5)"
   ]
  },
  {
   "cell_type": "code",
   "execution_count": null,
   "metadata": {},
   "outputs": [],
   "source": [
    "# 2. Prompt the user to enter minimum and maximum temperature criteria \n",
    "min_temp = float(input(\"What is your minimum temperature preference? \"))\n",
    "max_temp = float(input(\"What is your maximum temperature preference? \"))"
   ]
  },
  {
   "cell_type": "code",
   "execution_count": null,
   "metadata": {},
   "outputs": [],
   "source": [
    "# 3. Filter the city_data_df DataFrame using the input statements to create a new DataFrame using the loc method.\n",
    "preferred_cities_df = city_data_df.loc[(city_data_df[\"Max Temp\"] <= max_temp) & \\\n",
    "                                  (city_data_df[\"Max Temp\"] >= min_temp)]\n",
    "\n",
    "preferred_cities_df.head(5)"
   ]
  },
  {
   "cell_type": "code",
   "execution_count": null,
   "metadata": {},
   "outputs": [],
   "source": [
    "# 4a. Determine if there are any empty rows.\n",
    "preferred_cities_df.isnull().sum()"
   ]
  },
  {
   "cell_type": "code",
   "execution_count": null,
   "metadata": {},
   "outputs": [],
   "source": [
    "# 4b. Drop any empty rows and create a new DataFrame that doesn’t have empty rows.\n",
    "preferred_cities_df.dropna()"
   ]
  },
  {
   "cell_type": "code",
   "execution_count": null,
   "metadata": {},
   "outputs": [],
   "source": [
    "# 5a. Create DataFrame called hotel_df to store hotel names along with city, country, max temp, and coordinates.\n",
    "clean_hotel_df = preferred_cities_df[[\"City\", \"Country\", \"Max Temp\", \"Current Description\", \"Lat\", \"Lng\"]].copy()\n",
    "\n",
    "# 5b. Create a new column \"Hotel Name\"\n",
    "clean_hotel_df[\"Hotel Name\"] = \"\"\n",
    "clean_hotel_df.head(10)"
   ]
  },
  {
   "cell_type": "code",
   "execution_count": null,
   "metadata": {},
   "outputs": [],
   "source": [
    "# 6a. Set parameters to search for hotels with 5000 meters.\n",
    "params = {\n",
    "    \"radius\": 5000,\n",
    "    \"type\": \"lodging\",\n",
    "    \"key\": g_key\n",
    "}\n",
    "\n",
    "# 6b. Iterate through the hotel DataFrame.\n",
    "for index, row in clean_hotel_df.iterrows():\n",
    "    \n",
    "    # 6c. Get latitude and longitude from DataFrame\n",
    "    lat = row[\"Lat\"]\n",
    "    lng = row[\"Lng\"]\n",
    "\n",
    "    params[\"location\"] = f\"{lat},{lng}\"\n",
    "    \n",
    "    # 6d. Set up the base URL for the Google Directions API to get JSON data.\n",
    "    base_url = \"https://maps.googleapis.com/maps/api/place/nearbysearch/json\"\n",
    "\n",
    "    # 6e. Make request and retrieve the JSON data from the search. \n",
    "    hotels = requests.get(base_url, params=params).json()\n",
    "    \n",
    "    # 6f. Get the first hotel from the results and store the name, if a hotel isn't found skip the city.\n",
    "    try:\n",
    "        clean_hotel_df.loc[index, \"Hotel Name\"] = hotels[\"results\"][0][\"name\"]\n",
    "    except (IndexError):\n",
    "        print(\"Hotel not found... skipping.\")\n",
    "        "
   ]
  },
  {
   "cell_type": "code",
   "execution_count": null,
   "metadata": {},
   "outputs": [],
   "source": [
    "# 7. Drop the rows where there is no Hotel Name.\n",
    "clean_hotel_df.replace('',np.nan, inplace=True)\n",
    "clean_hotel_df.dropna()"
   ]
  },
  {
   "cell_type": "code",
   "execution_count": null,
   "metadata": {},
   "outputs": [],
   "source": [
    "# 8a. Create the output File (CSV)\n",
    "output_data_file = \"WeatherPy_vacation.csv\"\n",
    "\n",
    "# 8b. Export the City_Data into a csv\n",
    "clean_hotel_df.to_csv(output_data_file, index_label=\"City_ID\")"
   ]
  },
  {
   "cell_type": "code",
   "execution_count": null,
   "metadata": {},
   "outputs": [],
   "source": [
    "# 9. Using the template add city name, the country code, the weather description and maximum temperature for the city.\n",
    "info_box_template = \"\"\"\n",
    "<dl>\n",
    "<dt>Hotel Name</dt><dd>{Hotel Name}</dd>\n",
    "<dt>City</dt><dd>{City}</dd>\n",
    "<dt>Country</dt><dd>{Country}</dd>\n",
    "<dt>Current Weather</dt><dd>{Current Description} and {Max Temp} °F</dd>\n",
    "</dl>\n",
    "\"\"\"\n",
    "\n",
    "# 10a. Get the data from each row and add it to the formatting template and store the data in a list.\n",
    "hotel_info = [info_box_template.format(**row) for index, row in clean_hotel_df.iterrows()]\n",
    "\n",
    "# 10b. Get the latitude and longitude from each row and store in a new DataFrame.\n",
    "locations = clean_hotel_df[[\"Lat\", \"Lng\"]]"
   ]
  },
  {
   "cell_type": "code",
   "execution_count": null,
   "metadata": {},
   "outputs": [],
   "source": [
    "# 11a. Add a marker layer for each city to the map. \n",
    "locations = clean_hotel_df[[\"Lat\", \"Lng\"]]\n",
    "max_temp = clean_hotel_df[\"Max Temp\"]\n",
    "fig = gmaps.figure(center=(15.0, 31.0), zoom_level=1.0)\n",
    "heat_layer = gmaps.heatmap_layer(locations, weights=max_temp,\n",
    "             dissipating=False, max_intensity=300, point_radius=4)\n",
    "marker_layer = gmaps.marker_layer(locations, info_box_content=hotel_info)\n",
    "fig.add_layer(heat_layer)\n",
    "fig.add_layer(marker_layer)\n",
    "\n",
    "\n",
    "# 11b. Display the figure\n",
    "fig"
   ]
  }
 ],
 "metadata": {
  "kernelspec": {
   "display_name": "Python 3 (ipykernel)",
   "language": "python",
   "name": "python3"
  },
  "language_info": {
   "codemirror_mode": {
    "name": "ipython",
    "version": 3
   },
   "file_extension": ".py",
   "mimetype": "text/x-python",
   "name": "python",
   "nbconvert_exporter": "python",
   "pygments_lexer": "ipython3",
   "version": "3.9.7"
  },
  "latex_envs": {
   "LaTeX_envs_menu_present": true,
   "autoclose": false,
   "autocomplete": true,
   "bibliofile": "biblio.bib",
   "cite_by": "apalike",
   "current_citInitial": 1,
   "eqLabelWithNumbers": true,
   "eqNumInitial": 1,
   "hotkeys": {
    "equation": "Ctrl-E",
    "itemize": "Ctrl-I"
   },
   "labels_anchors": false,
   "latex_user_defs": false,
   "report_style_numbering": false,
   "user_envs_cfg": false
  }
 },
 "nbformat": 4,
 "nbformat_minor": 2
}
